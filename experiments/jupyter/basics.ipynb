{
 "cells": [
  {
   "cell_type": "code",
   "execution_count": 43,
   "id": "69f03eff-d839-49fe-8d46-d96cf1b725f4",
   "metadata": {},
   "outputs": [],
   "source": [
    "# KUBECONFIG\n",
    "# contexts:\n",
    "# - context:\n",
    "#     cluster: hdha-cluster\n",
    "#     namespace: kubeflow\n",
    "#     user: hdha-cluster\n",
    "#   name: hdha-cluster\n",
    "# current-context: hdha-cluster"
   ]
  },
  {
   "cell_type": "code",
   "execution_count": 2,
   "id": "31d4db7a-4880-42d3-8c4d-8154f132e44d",
   "metadata": {},
   "outputs": [
    {
     "name": "stdout",
     "output_type": "stream",
     "text": [
      "Forwarding from 127.0.0.1:8080 -> 3000\n",
      "Forwarding from [::1]:8080 -> 3000\n",
      "^C\n"
     ]
    }
   ],
   "source": [
    "#no ingress requires the port forward\n",
    "#!kubectl port-forward -n kubeflow svc/ml-pipeline-ui 8080:80"
   ]
  },
  {
   "cell_type": "code",
   "execution_count": 9,
   "id": "2ac44d44-1fb7-4799-8ce4-39af3359e942",
   "metadata": {},
   "outputs": [
    {
     "data": {
      "text/plain": [
       "{'created_at': datetime.datetime(2021, 6, 28, 16, 28, 41, tzinfo=tzutc()),\n",
       " 'default_version': {'code_source_url': None,\n",
       "                     'created_at': datetime.datetime(2021, 6, 28, 16, 28, 41, tzinfo=tzutc()),\n",
       "                     'id': '188ea1d9-e422-4da5-8381-a907735e5952',\n",
       "                     'name': '[Tutorial] DSL - Control structures',\n",
       "                     'package_url': None,\n",
       "                     'parameters': None,\n",
       "                     'resource_references': [{'key': {'id': '188ea1d9-e422-4da5-8381-a907735e5952',\n",
       "                                                      'type': 'PIPELINE'},\n",
       "                                              'name': None,\n",
       "                                              'relationship': 'OWNER'}]},\n",
       " 'description': '[source '\n",
       "                'code](https://github.com/kubeflow/pipelines/tree/2b5a5dd2d0beea39dd2d961d31ebad2ad363742a/samples/tutorials/DSL%20-%20Control%20structures) '\n",
       "                'Shows how to use conditional execution and exit handlers. '\n",
       "                'This pipeline will randomly fail to demonstrate that the exit '\n",
       "                'handler gets executed even in case of failure.',\n",
       " 'error': None,\n",
       " 'id': '188ea1d9-e422-4da5-8381-a907735e5952',\n",
       " 'name': '[Tutorial] DSL - Control structures',\n",
       " 'parameters': None,\n",
       " 'resource_references': None,\n",
       " 'url': None}"
      ]
     },
     "execution_count": 9,
     "metadata": {},
     "output_type": "execute_result"
    }
   ],
   "source": [
    "import kfp\n",
    "import kfp.components as comp\n",
    "from typing import NamedTuple\n",
    "import numpy as np\n",
    "import kfp.dsl as dsl\n",
    "\n",
    "\n",
    "# requires port forward. \n",
    "CLUSTER = 'http://localhost:8080'\n",
    "\n",
    "# CLUSTER = 'http://147.251.253.24'\n",
    "client = kfp.Client(CLUSTER)\n",
    "client.list_pipelines().pipelines[-1]"
   ]
  },
  {
   "cell_type": "code",
   "execution_count": 14,
   "id": "702b3418-6e13-4cbf-8364-a7c681f75603",
   "metadata": {},
   "outputs": [],
   "source": [
    "def simple_echo(i: int) -> int:\n",
    " return i\n",
    "\n",
    "echo_op = comp.func_to_container_op(simple_echo)"
   ]
  },
  {
   "cell_type": "code",
   "execution_count": 17,
   "id": "f9a2f95f-fa97-48ed-a363-d5cba8cd0813",
   "metadata": {},
   "outputs": [
    {
     "data": {
      "text/plain": [
       "TaskSpec(component_ref=ComponentReference(name=None, digest=None, tag=None, url=None, spec=ComponentSpec(name='Simple echo', description=None, metadata=None, inputs=[InputSpec(name='i', type='Integer', description=None, default=None, optional=False, annotations=None)], outputs=[OutputSpec(name='Output', type='Integer', description=None, annotations=None)], implementation=ContainerImplementation(container=ContainerSpec(image='python:3.7', command=['sh', '-ec', 'program_path=$(mktemp)\\nprintf \"%s\" \"$0\" > \"$program_path\"\\npython3 -u \"$program_path\" \"$@\"\\n', 'def simple_echo(i):\\n return i\\n\\ndef _serialize_int(int_value: int) -> str:\\n    if isinstance(int_value, str):\\n        return int_value\\n    if not isinstance(int_value, int):\\n        raise TypeError(\\'Value \"{}\" has type \"{}\" instead of int.\\'.format(str(int_value), str(type(int_value))))\\n    return str(int_value)\\n\\nimport argparse\\n_parser = argparse.ArgumentParser(prog=\\'Simple echo\\', description=\\'\\')\\n_parser.add_argument(\"--i\", dest=\"i\", type=int, required=True, default=argparse.SUPPRESS)\\n_parser.add_argument(\"----output-paths\", dest=\"_output_paths\", type=str, nargs=1)\\n_parsed_args = vars(_parser.parse_args())\\n_output_files = _parsed_args.pop(\"_output_paths\", [])\\n\\n_outputs = simple_echo(**_parsed_args)\\n\\n_outputs = [_outputs]\\n\\n_output_serializers = [\\n    _serialize_int,\\n\\n]\\n\\nimport os\\nfor idx, output_file in enumerate(_output_files):\\n    try:\\n        os.makedirs(os.path.dirname(output_file))\\n    except OSError:\\n        pass\\n    with open(output_file, \\'w\\') as f:\\n        f.write(_output_serializers[idx](_outputs[idx]))\\n'], args=['--i', InputValuePlaceholder(input_name='i'), '----output-paths', OutputPathPlaceholder(output_name='Output')], env=None, file_outputs=None)), version='google.com/cloud/pipelines/component/v1')), arguments={'i': '1'}, is_enabled=None, execution_options=None, annotations=None)"
      ]
     },
     "execution_count": 17,
     "metadata": {},
     "output_type": "execute_result"
    }
   ],
   "source": [
    "# strongly typed\n",
    "echo_op(1)"
   ]
  },
  {
   "cell_type": "code",
   "execution_count": 19,
   "id": "444b4d24-4457-49f8-90ff-74f06e17d964",
   "metadata": {},
   "outputs": [],
   "source": [
    "@dsl.pipeline(name='echo pipe',description='echo')\n",
    "def echo_pipe(x='1'):\n",
    "    echo_task = echo_op(x)"
   ]
  },
  {
   "cell_type": "code",
   "execution_count": 21,
   "id": "416f6fe9-046a-426f-9200-d771ce17309c",
   "metadata": {},
   "outputs": [
    {
     "name": "stderr",
     "output_type": "stream",
     "text": [
      "/home/m/anaconda3/envs/kf38/lib/python3.8/site-packages/kfp/compiler/compiler.py:1149: UserWarning: Cannot validate the compiled workflow. Found the argo program in PATH, but it's not usable. argo v2.4.3 should work.\n",
      "  warnings.warn(\"Cannot validate the compiled workflow. Found the argo program in PATH, but it's not usable. argo v2.4.3 should work.\")\n"
     ]
    },
    {
     "data": {
      "text/html": [
       "<a href=\"http://localhost:8080/#/experiments/details/0d144c76-6bc3-497f-9f3f-3486ab9c05e3\" target=\"_blank\" >Experiment details</a>."
      ],
      "text/plain": [
       "<IPython.core.display.HTML object>"
      ]
     },
     "metadata": {},
     "output_type": "display_data"
    },
    {
     "data": {
      "text/html": [
       "<a href=\"http://localhost:8080/#/runs/details/6724d4e5-b014-42da-80e5-42c2539b3dd3\" target=\"_blank\" >Run details</a>."
      ],
      "text/plain": [
       "<IPython.core.display.HTML object>"
      ]
     },
     "metadata": {},
     "output_type": "display_data"
    },
    {
     "data": {
      "text/plain": [
       "RunPipelineResult(run_id=6724d4e5-b014-42da-80e5-42c2539b3dd3)"
      ]
     },
     "execution_count": 21,
     "metadata": {},
     "output_type": "execute_result"
    }
   ],
   "source": [
    "arguments = {'x': '7'}\n",
    "client.create_run_from_pipeline_func(echo_pipe, arguments=arguments)"
   ]
  },
  {
   "cell_type": "code",
   "execution_count": 20,
   "id": "40347de0-729d-47ed-9978-d28e59980cde",
   "metadata": {},
   "outputs": [],
   "source": [
    "def add(a: float, b: float) -> float:\n",
    " '''Calculates sum of two arguments'''\n",
    " return a + b\n",
    "\n",
    "add_op = comp.func_to_container_op(add)"
   ]
  },
  {
   "cell_type": "code",
   "execution_count": 27,
   "id": "03e62cb6-a061-47a3-aa18-0dc3fdb7a142",
   "metadata": {},
   "outputs": [],
   "source": [
    "from typing import NamedTuple\n",
    "\n",
    "'''Divides two numbers and calculate the quotient and remainder'''\n",
    "def my_divmod(dividend: float, divisor:float) -> NamedTuple('MyDivmodOutput', [('quotient', float), ('remainder', float)]):\n",
    "    # imports must be\n",
    "    # done within the function. That is because global imports from the notebook will not\n",
    "    # be packaged into the containers we create.\n",
    "    import numpy as np\n",
    "    def divmod_helper(dividend, divisor):\n",
    "        return np.divmod(dividend, divisor)\n",
    "    \n",
    "    (quotient, remainder) = divmod_helper(dividend, divisor)\n",
    " \n",
    "    from collections import namedtuple\n",
    "    divmod_output = namedtuple('MyDivmodOutput', ['quotient', 'remainder'])\n",
    "    return divmod_output(quotient, remainder)"
   ]
  },
  {
   "cell_type": "code",
   "execution_count": 28,
   "id": "2a26fa16-adb2-4767-ae9e-efcd9843e190",
   "metadata": {},
   "outputs": [],
   "source": [
    "divmod_op = comp.func_to_container_op(my_divmod, base_image='tensorflow/tensorflow:1.14.0-py3')"
   ]
  },
  {
   "cell_type": "code",
   "execution_count": 29,
   "id": "fe6ab062-b6f7-4a14-a9bc-4210071deffb",
   "metadata": {},
   "outputs": [
    {
     "data": {
      "text/plain": [
       "<function My divmod(dividend: float, divisor: float)>"
      ]
     },
     "execution_count": 29,
     "metadata": {},
     "output_type": "execute_result"
    }
   ],
   "source": [
    "divmod_op"
   ]
  },
  {
   "cell_type": "code",
   "execution_count": 32,
   "id": "507427ed-36af-4f0e-ae38-b58cbd7f3b72",
   "metadata": {},
   "outputs": [],
   "source": [
    "@dsl.pipeline(\n",
    " name='Calculation pipeline',\n",
    " description='A toy pipeline that performs arithmetic calculations.'\n",
    ")\n",
    "def calc_pipeline(\n",
    " a='a',\n",
    " b='7',\n",
    " c='17',\n",
    "):\n",
    "    #Passing pipeline parameter and a constant value as operation arguments\n",
    "    add_task = add_op(a, 4) #Returns a dsl.ContainerOp class instance.\n",
    "    #Passing a task output reference as operation arguments\n",
    "    #For an operation with a single return value, the output\n",
    "    # reference can be accessed using `task.output`\n",
    "    # or `task.outputs['output_name']` syntax\n",
    "    divmod_task = divmod_op(add_task.output, b)\n",
    "    #For an operation with multiple return values, the output references\n",
    "    # can be accessed using `task.outputs['output_name']` syntax\n",
    "    result_task = add_op(divmod_task.outputs['quotient'], c) "
   ]
  },
  {
   "cell_type": "code",
   "execution_count": 35,
   "id": "b61e523e-59e3-43b4-bc6d-47f8b0ad73c7",
   "metadata": {},
   "outputs": [],
   "source": [
    "#IMPORTANT, no trailing slash, cuz not found!\n",
    "client = kfp.Client(\"http://147.251.253.24\")\n",
    "#Specify pipeline argument values\n",
    "# arguments = {'a': '7', 'b': '8'} #whatever makes sense for new version\n",
    "#Submit a pipeline run\n",
    "# client.create_run_from_pipeline_func(calc_pipeline, arguments=arguments)"
   ]
  },
  {
   "cell_type": "code",
   "execution_count": 36,
   "id": "892cfe0e-0485-4f60-b76f-524b9f755b52",
   "metadata": {},
   "outputs": [
    {
     "data": {
      "text/html": [
       "<a href=\"http://147.251.253.24/#/experiments/details/9d061471-f1a1-4d72-8fec-b4b4a9916a31\" target=\"_blank\" >Experiment details</a>."
      ],
      "text/plain": [
       "<IPython.core.display.HTML object>"
      ]
     },
     "metadata": {},
     "output_type": "display_data"
    },
    {
     "data": {
      "text/html": [
       "<a href=\"http://147.251.253.24/#/runs/details/115f5b32-6c08-4d06-9aac-e5c06d1d5092\" target=\"_blank\" >Run details</a>."
      ],
      "text/plain": [
       "<IPython.core.display.HTML object>"
      ]
     },
     "metadata": {},
     "output_type": "display_data"
    },
    {
     "data": {
      "text/plain": [
       "RunPipelineResult(run_id=115f5b32-6c08-4d06-9aac-e5c06d1d5092)"
      ]
     },
     "execution_count": 36,
     "metadata": {},
     "output_type": "execute_result"
    }
   ],
   "source": [
    "arguments = {'a': '7', 'b': '8'}\n",
    "client.create_run_from_pipeline_func(calc_pipeline, arguments=arguments)"
   ]
  },
  {
   "cell_type": "code",
   "execution_count": null,
   "id": "16bad4c5-c585-4bba-b1a8-993ad4c11f95",
   "metadata": {},
   "outputs": [],
   "source": [
    "# It’s also worth noting that adding the @kfp.dsl.component\n",
    "# annotation instructs the Kubeflow compiler to turn on static type checking:"
   ]
  },
  {
   "cell_type": "code",
   "execution_count": 37,
   "id": "09e3368c-af1f-46eb-829e-04d007c0fe5f",
   "metadata": {},
   "outputs": [],
   "source": [
    "dvop = dsl.VolumeOp(name=\"create_pvc\", resource_name=\"my-pvc-2\", size=\"5Gi\", modes=dsl.VOLUME_MODE_RWO)"
   ]
  },
  {
   "cell_type": "code",
   "execution_count": 38,
   "id": "44cba311-3ba6-478a-b128-3d4a0779adf3",
   "metadata": {},
   "outputs": [
    {
     "ename": "NameError",
     "evalue": "name 'data_url' is not defined",
     "output_type": "error",
     "traceback": [
      "\u001b[0;31m--------------------------------------\u001b[0m",
      "\u001b[0;31mNameError\u001b[0mTraceback (most recent call last)",
      "\u001b[0;32m<ipython-input-38-d89ed6870eda>\u001b[0m in \u001b[0;36m<module>\u001b[0;34m\u001b[0m\n\u001b[1;32m      5\u001b[0m  \u001b[0;34m'sleep 1;'\u001b[0m\u001b[0;34m\u001b[0m\u001b[0;34m\u001b[0m\u001b[0m\n\u001b[1;32m      6\u001b[0m  \u001b[0;34m'mkdir -p /tmp/data;'\u001b[0m\u001b[0;34m\u001b[0m\u001b[0;34m\u001b[0m\u001b[0m\n\u001b[0;32m----> 7\u001b[0;31m  \u001b[0;34m'wget '\u001b[0m \u001b[0;34m+\u001b[0m \u001b[0mdata_url\u001b[0m \u001b[0;34m+\u001b[0m\u001b[0;34m\u001b[0m\u001b[0;34m\u001b[0m\u001b[0m\n\u001b[0m\u001b[1;32m      8\u001b[0m  \u001b[0;34m' -O /tmp/data/results.csv'\u001b[0m\u001b[0;34m\u001b[0m\u001b[0;34m\u001b[0m\u001b[0m\n\u001b[1;32m      9\u001b[0m  ],\n",
      "\u001b[0;31mNameError\u001b[0m: name 'data_url' is not defined"
     ]
    }
   ],
   "source": [
    "fetch = kfp.dsl.ContainerOp(name='download',\n",
    " image='busybox',\n",
    " command=['sh', '-c'],\n",
    " arguments=[\n",
    " 'sleep 1;'\n",
    " 'mkdir -p /tmp/data;'\n",
    " 'wget ' + data_url +\n",
    " ' -O /tmp/data/results.csv'\n",
    " ],\n",
    " file_outputs={'downloaded': '/tmp/data'})\n",
    " # This expects a directory of inputs not just a single file"
   ]
  },
  {
   "cell_type": "code",
   "execution_count": 40,
   "id": "04535a80-eb49-4464-ac49-bae1229fdb2e",
   "metadata": {},
   "outputs": [],
   "source": [
    "client = kfp.Client(CLUSTER)"
   ]
  },
  {
   "cell_type": "code",
   "execution_count": 42,
   "id": "e8418fe8-8dbb-4850-bc3e-e8cd4580b341",
   "metadata": {},
   "outputs": [
    {
     "data": {
      "text/plain": [
       "{'created_at': datetime.datetime(2021, 6, 28, 15, 24, 2, tzinfo=tzutc()),\n",
       " 'description': 'football experiment\\n',\n",
       " 'id': '16b7cebb-3082-49b9-a685-4b9d3b73bf55',\n",
       " 'name': 'football',\n",
       " 'resource_references': None,\n",
       " 'storage_state': 'STORAGESTATE_AVAILABLE'}"
      ]
     },
     "execution_count": 42,
     "metadata": {},
     "output_type": "execute_result"
    }
   ],
   "source": [
    "client.get_experiment(experiment_name = \"football\")"
   ]
  },
  {
   "cell_type": "code",
   "execution_count": null,
   "id": "7c8bd7d6-c7c0-44a7-b4f2-f41fb71042a7",
   "metadata": {},
   "outputs": [],
   "source": []
  }
 ],
 "metadata": {
  "kernelspec": {
   "display_name": "Python 3",
   "language": "python",
   "name": "python3"
  },
  "language_info": {
   "codemirror_mode": {
    "name": "ipython",
    "version": 3
   },
   "file_extension": ".py",
   "mimetype": "text/x-python",
   "name": "python",
   "nbconvert_exporter": "python",
   "pygments_lexer": "ipython3",
   "version": "3.8.10"
  }
 },
 "nbformat": 4,
 "nbformat_minor": 5
}
